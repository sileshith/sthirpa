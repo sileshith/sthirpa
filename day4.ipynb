{
 "cells": [
  {
   "cell_type": "markdown",
   "id": "1dbafe62",
   "metadata": {},
   "source": [
    "Print numbers in comma separated format in either of the following two forms:\n"
   ]
  },
  {
   "cell_type": "code",
   "execution_count": 3,
   "id": "896e7e9c",
   "metadata": {},
   "outputs": [
    {
     "name": "stdout",
     "output_type": "stream",
     "text": [
      "1,600,000\n"
     ]
    }
   ],
   "source": [
    "# First format:\n",
    "x = 1600000\n",
    "print(format(x,',d'))"
   ]
  },
  {
   "cell_type": "code",
   "execution_count": 10,
   "id": "fe24d2ec",
   "metadata": {},
   "outputs": [
    {
     "name": "stdout",
     "output_type": "stream",
     "text": [
      "$1,600,000\n"
     ]
    }
   ],
   "source": [
    "# Second format:\n",
    "x = 1600000\n",
    "print(f'${x:,}')"
   ]
  },
  {
   "cell_type": "code",
   "execution_count": 14,
   "id": "332a6097",
   "metadata": {},
   "outputs": [
    {
     "data": {
      "text/plain": [
       "'1,000,000'"
      ]
     },
     "execution_count": 14,
     "metadata": {},
     "output_type": "execute_result"
    }
   ],
   "source": [
    "text = \"{wealth:,}\"\n",
    "text.format(wealth = 1000000)"
   ]
  },
  {
   "cell_type": "markdown",
   "id": "f74809b6",
   "metadata": {},
   "source": [
    "Abstraction"
   ]
  },
  {
   "cell_type": "code",
   "execution_count": 19,
   "id": "84c84be4",
   "metadata": {},
   "outputs": [],
   "source": [
    "import itertools"
   ]
  },
  {
   "cell_type": "code",
   "execution_count": null,
   "id": "efde87ff",
   "metadata": {},
   "outputs": [],
   "source": [
    "#dir(itertools)"
   ]
  },
  {
   "cell_type": "code",
   "execution_count": 20,
   "id": "eb559cdb",
   "metadata": {},
   "outputs": [],
   "source": [
    "animals = ['dog', 'dog', 'dog', 'horse', 'horse']"
   ]
  },
  {
   "cell_type": "code",
   "execution_count": 30,
   "id": "b5f554b8",
   "metadata": {},
   "outputs": [
    {
     "data": {
      "text/plain": [
       "['dog', 'dog', 'dog', 'horse', 'horse']"
      ]
     },
     "execution_count": 30,
     "metadata": {},
     "output_type": "execute_result"
    }
   ],
   "source": [
    "sorted_animals = sorted(animals)\n",
    "sorted_animals"
   ]
  },
  {
   "cell_type": "code",
   "execution_count": 22,
   "id": "5d0f3c06",
   "metadata": {},
   "outputs": [
    {
     "name": "stdout",
     "output_type": "stream",
     "text": [
      "dog ['dog', 'dog', 'dog']\n",
      "horse ['horse', 'horse']\n"
     ]
    }
   ],
   "source": [
    "for key, group in itertools.groupby(animals):\n",
    "    print(key, list(group))"
   ]
  },
  {
   "cell_type": "code",
   "execution_count": 24,
   "id": "dd782106",
   "metadata": {},
   "outputs": [
    {
     "data": {
      "text/plain": [
       "{'dog': ['dog', 'dog', 'dog'], 'horse': ['horse', 'horse']}"
      ]
     },
     "execution_count": 24,
     "metadata": {},
     "output_type": "execute_result"
    }
   ],
   "source": [
    "{key: list(group) for key, group in itertools.groupby(animals)}\n",
    "    "
   ]
  },
  {
   "cell_type": "markdown",
   "id": "9940c69c",
   "metadata": {},
   "source": [
    "# From Class Lecture\n",
    "\n"
   ]
  },
  {
   "cell_type": "code",
   "execution_count": 31,
   "id": "529fdcdf",
   "metadata": {},
   "outputs": [
    {
     "name": "stdout",
     "output_type": "stream",
     "text": [
      "Now sorted, the list is: ['horse', 'horse', 'horse', 'dog', 'dog', 'dog'] \n",
      "\n",
      "horse ['horse', 'horse', 'horse']\n",
      "dog ['dog', 'dog', 'dog']\n"
     ]
    }
   ],
   "source": [
    "animals = ['dog', 'dog', 'horse', 'horse', 'horse', 'dog']\n",
    "sorted_animals = sorted(animals,reverse=True)\n",
    "print(\"Now sorted, the list is:\", sorted_animals, \"\\n\")\n",
    "\n",
    "for key, group in itertools.groupby(sorted_animals):\n",
    "  print(key, list(group))"
   ]
  },
  {
   "cell_type": "markdown",
   "id": "700ce2d7",
   "metadata": {},
   "source": [
    "# Chain"
   ]
  },
  {
   "cell_type": "code",
   "execution_count": 32,
   "id": "9b65d584",
   "metadata": {},
   "outputs": [
    {
     "data": {
      "text/plain": [
       "['pizza', 'tacos', 'sushi', 0, 1, 2, 3, 'red', 'green']"
      ]
     },
     "execution_count": 32,
     "metadata": {},
     "output_type": "execute_result"
    }
   ],
   "source": [
    "food = ['pizza', 'tacos', 'sushi']\n",
    "numbers = list(range(4))\n",
    "colors = ['red', 'green']\n",
    "list(itertools.chain(food, numbers, colors))"
   ]
  },
  {
   "cell_type": "code",
   "execution_count": 33,
   "id": "5cfe237e",
   "metadata": {},
   "outputs": [
    {
     "data": {
      "text/plain": [
       "['pizza', 'tacos', 'sushi', 0, 1, 2, 3, 'red', 'green']"
      ]
     },
     "execution_count": 33,
     "metadata": {},
     "output_type": "execute_result"
    }
   ],
   "source": [
    "food + numbers + colors"
   ]
  },
  {
   "cell_type": "markdown",
   "id": "3ac0fa24",
   "metadata": {},
   "source": [
    "What happened to the '+' 🤪?"
   ]
  },
  {
   "cell_type": "code",
   "execution_count": 36,
   "id": "c7a184df",
   "metadata": {},
   "outputs": [
    {
     "data": {
      "text/plain": [
       "['blue', 'green', 'red', 'Gold', 'soccer', 'fishing', 'swimming']"
      ]
     },
     "execution_count": 36,
     "metadata": {},
     "output_type": "execute_result"
    }
   ],
   "source": [
    "colors = ['blue', 'green', 'red', 'Gold']\n",
    "hobbies = {'soccer': 'CFC', 'fishing': 'Salmon', 'swimming': 'Ocean'}\n",
    "list(itertools.chain(colors, hobbies))\n"
   ]
  },
  {
   "cell_type": "markdown",
   "id": "434f2644",
   "metadata": {},
   "source": [
    "# Accumulate"
   ]
  },
  {
   "cell_type": "code",
   "execution_count": 37,
   "id": "e096a08b",
   "metadata": {},
   "outputs": [
    {
     "data": {
      "text/plain": [
       "[2, 5, 10, 17, 28, 41]"
      ]
     },
     "execution_count": 37,
     "metadata": {},
     "output_type": "execute_result"
    }
   ],
   "source": [
    "# Adds up the primes\n",
    "primes =[2, 3, 5, 7, 11, 13]\n",
    "list(itertools.accumulate(primes))"
   ]
  },
  {
   "cell_type": "markdown",
   "id": "d1d373f4",
   "metadata": {},
   "source": [
    "# List comprehensions"
   ]
  },
  {
   "cell_type": "code",
   "execution_count": 39,
   "id": "53f694c1",
   "metadata": {},
   "outputs": [
    {
     "data": {
      "text/plain": [
       "[5, 10, 15, 20, 25, 30]"
      ]
     },
     "execution_count": 39,
     "metadata": {},
     "output_type": "execute_result"
    }
   ],
   "source": [
    "list_of_nums = [1, 2, 3, 4, 5,6]\n",
    "list_ofnums_x5 = []\n",
    "\n",
    "for num in list_of_nums:\n",
    "    list_ofnums_x5.append(num*5)\n",
    "    \n",
    "list_ofnums_x5"
   ]
  },
  {
   "cell_type": "code",
   "execution_count": 40,
   "id": "709d5990",
   "metadata": {},
   "outputs": [
    {
     "data": {
      "text/plain": [
       "[10, 20, 30, 40, 50]"
      ]
     },
     "execution_count": 40,
     "metadata": {},
     "output_type": "execute_result"
    }
   ],
   "source": [
    "list_ofnums_x5 = [num * 5 for num in range(1,11) if num %2 ==0]\n",
    "\n",
    "list_ofnums_x5"
   ]
  },
  {
   "cell_type": "code",
   "execution_count": 41,
   "id": "a489eb94",
   "metadata": {
    "scrolled": true
   },
   "outputs": [
    {
     "data": {
      "text/plain": [
       "[1,\n",
       " 27,\n",
       " 125,\n",
       " 343,\n",
       " 729,\n",
       " 1331,\n",
       " 2197,\n",
       " 3375,\n",
       " 4913,\n",
       " 6859,\n",
       " 9261,\n",
       " 12167,\n",
       " 15625,\n",
       " 19683,\n",
       " 24389,\n",
       " 29791,\n",
       " 35937,\n",
       " 42875,\n",
       " 50653,\n",
       " 59319,\n",
       " 68921,\n",
       " 79507,\n",
       " 91125,\n",
       " 103823,\n",
       " 117649]"
      ]
     },
     "execution_count": 41,
     "metadata": {},
     "output_type": "execute_result"
    }
   ],
   "source": [
    "old_list = list(range(1, 51))\n",
    "new_list = [num **3 for num in old_list if num%2 ==1]\n",
    "new_list"
   ]
  },
  {
   "cell_type": "code",
   "execution_count": 45,
   "id": "e78ba15c",
   "metadata": {},
   "outputs": [
    {
     "data": {
      "text/plain": [
       "[{1: 1},\n",
       " {3: 27},\n",
       " {5: 125},\n",
       " {7: 343},\n",
       " {9: 729},\n",
       " {11: 1331},\n",
       " {13: 2197},\n",
       " {15: 3375},\n",
       " {17: 4913},\n",
       " {19: 6859},\n",
       " {21: 9261},\n",
       " {23: 12167},\n",
       " {25: 15625},\n",
       " {27: 19683},\n",
       " {29: 24389},\n",
       " {31: 29791},\n",
       " {33: 35937},\n",
       " {35: 42875},\n",
       " {37: 50653},\n",
       " {39: 59319},\n",
       " {41: 68921},\n",
       " {43: 79507},\n",
       " {45: 91125},\n",
       " {47: 103823},\n",
       " {49: 117649}]"
      ]
     },
     "execution_count": 45,
     "metadata": {},
     "output_type": "execute_result"
    }
   ],
   "source": [
    "old_list = list(range(1, 51))\n",
    "new_list = [{num:num **3} for num in old_list if num%2 ==1]\n",
    "new_list"
   ]
  },
  {
   "cell_type": "markdown",
   "id": "5bf4e697",
   "metadata": {},
   "source": [
    "Anything before the 'for' is our method"
   ]
  },
  {
   "cell_type": "code",
   "execution_count": 42,
   "id": "83aa9ea3",
   "metadata": {},
   "outputs": [
    {
     "data": {
      "text/plain": [
       "['ORANGE', 'YELLOW', 'GREEN', 'INDIGO', 'VIOLET']"
      ]
     },
     "execution_count": 42,
     "metadata": {},
     "output_type": "execute_result"
    }
   ],
   "source": [
    "colors = ['red', 'orange', 'yellow', 'green', 'blue', 'indigo', 'violet']\n",
    "long_colors = [color.upper() for color in colors if len(color) > 4]\n",
    "long_colors"
   ]
  },
  {
   "cell_type": "code",
   "execution_count": 44,
   "id": "47b9d04d",
   "metadata": {},
   "outputs": [
    {
     "data": {
      "text/plain": [
       "[{'orange': 'ORANGE'},\n",
       " {'yellow': 'YELLOW'},\n",
       " {'green': 'GREEN'},\n",
       " {'indigo': 'INDIGO'},\n",
       " {'violet': 'VIOLET'}]"
      ]
     },
     "execution_count": 44,
     "metadata": {},
     "output_type": "execute_result"
    }
   ],
   "source": [
    "colors = ['red', 'orange', 'yellow', 'green', 'blue', 'indigo', 'violet']\n",
    "long_colors = [{color:color.upper()} for color in colors if len(color) > 4]\n",
    "long_colors"
   ]
  },
  {
   "cell_type": "markdown",
   "id": "eecabd38",
   "metadata": {},
   "source": [
    "Class Exercise"
   ]
  },
  {
   "cell_type": "code",
   "execution_count": 52,
   "id": "47f6dc8b",
   "metadata": {},
   "outputs": [
    {
     "name": "stdout",
     "output_type": "stream",
     "text": [
      "['9', '9', '1', '3', '2']\n"
     ]
    }
   ],
   "source": [
    "# We are converting the ff to listComprehension\n",
    "my_string = '99 fantastic 13 hello 2 world'\n",
    "nums_list = []\n",
    "\n",
    "for i in my_string:\n",
    "  if i.isdigit():\n",
    "    nums_list.append(i)\n",
    "\n",
    "print(nums_list)"
   ]
  },
  {
   "cell_type": "code",
   "execution_count": 51,
   "id": "bd5a9f7e",
   "metadata": {},
   "outputs": [
    {
     "data": {
      "text/plain": [
       "['9', '9', '1', '3', '2']"
      ]
     },
     "execution_count": 51,
     "metadata": {},
     "output_type": "execute_result"
    }
   ],
   "source": [
    "my_list = [x for x in my_string if x.isdigit() ]\n",
    "my_list"
   ]
  },
  {
   "cell_type": "markdown",
   "id": "598fd4aa",
   "metadata": {},
   "source": [
    "# PythonFinal Project Choice Options:"
   ]
  },
  {
   "cell_type": "markdown",
   "id": "6cd0cfba",
   "metadata": {},
   "source": [
    "#Scripting inspiration:\n",
    "\n",
    "https://www.upgrad.com/blog/python-projects-ideas-topics-beginners/\n",
    "\n",
    "Datasets:\n",
    "\n",
    "https://www.kaggle.com/datasets?fileType=csv&datasetsOnly=true\n",
    "\n",
    "API list:\n",
    "\n",
    "https://github.com/public-apis/public-apis\n",
    "\n",
    "upGrad blogupGrad blog\n",
    "42 Exciting Python Project Ideas & Topics for Beginners [2021] | upGrad blog\n",
    "Looking for Python Project Ideas? Start off with these cool python project ideas to test your strengths & weakness but also help you to gain exposure that can be helpful for boosting your career.\n",
    "Written by\n",
    "Rohit Sharma\n",
    "Est. reading time\n",
    "25 minutes\n",
    "Jan 6th (425 kB)\n",
    "\n",
    "https://www.upgrad.com/blog/python-projects-ideas-topics-beginners/\n",
    "\n",
    "kaggle.comkaggle.com\n",
    "Find Open Datasets and Machine Learning Projects | Kaggle\n",
    "Download Open Datasets on 1000s of Projects + Share Projects on One Platform. Explore Popular Topics Like Government, Sports, Medicine, Fintech, Food, More. Flexible Data Ingestion.\n",
    "GitHubGitHub\n",
    "GitHub - public-apis/public-apis: A collective list of free APIs\n",
    "A collective list of free APIs. Contribute to public-apis/public-apis development by creating an account on GitHub. (82 kB)\n",
    "\n",
    "https://github.com/public-apis/public-apis\n",
    "\n"
   ]
  },
  {
   "cell_type": "code",
   "execution_count": null,
   "id": "4bfa9c72",
   "metadata": {},
   "outputs": [],
   "source": []
  }
 ],
 "metadata": {
  "kernelspec": {
   "display_name": "Python 3",
   "language": "python",
   "name": "python3"
  },
  "language_info": {
   "codemirror_mode": {
    "name": "ipython",
    "version": 3
   },
   "file_extension": ".py",
   "mimetype": "text/x-python",
   "name": "python",
   "nbconvert_exporter": "python",
   "pygments_lexer": "ipython3",
   "version": "3.8.8"
  }
 },
 "nbformat": 4,
 "nbformat_minor": 5
}
